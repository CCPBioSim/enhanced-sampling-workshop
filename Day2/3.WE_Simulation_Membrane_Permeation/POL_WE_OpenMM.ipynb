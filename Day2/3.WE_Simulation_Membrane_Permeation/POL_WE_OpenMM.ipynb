{
 "cells": [
  {
   "cell_type": "markdown",
   "id": "d605b81a",
   "metadata": {},
   "source": [
    "# The Weighted Ensemble Method\n",
    "\n",
    "## Propanol Membrane Permeation Kinetics, with OpenMM\n",
    "\n",
    "\n",
    "---------\n",
    "\n",
    "### Part 1: Building the OpenMM system\n",
    "We begin by importing the packages required to build the simulation system in OpenMM: "
   ]
  },
  {
   "cell_type": "code",
   "execution_count": null,
   "id": "a3ffe17f",
   "metadata": {},
   "outputs": [],
   "source": [
    "import openmm.app as omm_app\n",
    "import openmm as omm\n",
    "import openmm.unit as unit\n",
    "\n",
    "from matplotlib import pyplot as plt\n",
    "%matplotlib inline\n",
    "\n",
    "import json"
   ]
  },
  {
   "cell_type": "markdown",
   "id": "5f7e86d5",
   "metadata": {},
   "source": [
    "Now we create the `system`, and then a `simulation` object:"
   ]
  },
  {
   "cell_type": "code",
   "execution_count": null,
   "id": "82430ad7",
   "metadata": {},
   "outputs": [],
   "source": [
    "prmtop = omm_app.AmberPrmtopFile('pol_dppc.prmtop')\n",
    "inpcrd = omm_app.AmberInpcrdFile('pol_dppc_md6.ncrst')\n",
    "system = prmtop.createSystem(nonbondedMethod=omm_app.PME, nonbondedCutoff=10.0*unit.angstrom,\n",
    "        constraints=omm_app.HBonds)\n",
    "\n",
    "T = 300.0 * unit.kelvin  ## temperature\n",
    "fricCoef = 1.0 / unit.picoseconds ## friction coefficient \n",
    "stepsize = 0.002 * unit.picoseconds ## integration step size\n",
    "integrator = omm.LangevinIntegrator(T, fricCoef, stepsize)\n",
    "\n",
    "simulation = omm_app.Simulation(prmtop.topology, system, integrator)\n",
    "simulation.context.setPositions(inpcrd.positions)\n",
    "if inpcrd.boxVectors is not None:\n",
    "    simulation.context.setPeriodicBoxVectors(*inpcrd.boxVectors)\n",
    "    \n",
    "print(f'OpenMM will use the {simulation.context.getPlatform().getName()} platform')"
   ]
  },
  {
   "cell_type": "markdown",
   "id": "e6b129b9",
   "metadata": {},
   "source": [
    "### Part 2: Building the WE workflow\n",
    "Now we import WElib and other utilities that will be useful. Many are the same as those used for the simple double well potential example, but we have OpenMM-compatible versions of the `Stepper` and `ProgressCoordinator`:"
   ]
  },
  {
   "cell_type": "code",
   "execution_count": null,
   "id": "3eeed703",
   "metadata": {},
   "outputs": [],
   "source": [
    "import mdtraj as mdt\n",
    "import numpy as np\n",
    "import time\n",
    "from WElib import Walker, FunctionStepper, FunctionProgressCoordinator, Recycler, StaticBinner, SplitMerger"
   ]
  },
  {
   "cell_type": "markdown",
   "id": "31ba3bb4",
   "metadata": {},
   "source": [
    "Create some walkers, each begins in the initial, dissociated, state:"
   ]
  },
  {
   "cell_type": "code",
   "execution_count": null,
   "id": "530653b6",
   "metadata": {},
   "outputs": [],
   "source": [
    "initial_state = simulation.context.getState(getPositions=True, enforcePeriodicBox=True)\n",
    "\n",
    "n_reps = 5\n",
    "walkers = [Walker(initial_state, 1.0/n_reps) for i in range(n_reps)]\n",
    "for w in walkers:\n",
    "    print(w)"
   ]
  },
  {
   "cell_type": "markdown",
   "id": "dc7b122c",
   "metadata": {},
   "source": [
    "The first progress coordinate will be the Z-distance between centre of mass of the propanol molecule and the centre of the lipid bilayer (centre of mass of the lipid head group P atoms). The second will be the orientation of the propanol (the angle between the z-axis and the vector between the oxygen and terminal C-atom positions). We need to create a function that returns this, given the `state` of a walker:"
   ]
  },
  {
   "cell_type": "code",
   "execution_count": null,
   "id": "ec250c88",
   "metadata": {},
   "outputs": [],
   "source": [
    "def ztpc(state, ligand_head_atom, ligand_tail_atom, membrane_atoms):\n",
    "    \"\"\"\n",
    "    2D progress coordinates for molecule permeation\n",
    "    \"\"\"\n",
    "    crds = state.getPositions(asNumpy=True) / unit.nanometers\n",
    "    lig_com = crds[[ligand_head_atom, ligand_tail_atom]].mean(axis=0)\n",
    "    memb_com = crds[membrane_atoms].mean(axis=0)\n",
    "    lig_v = crds[ligand_head_atom] - crds[ligand_tail_atom]\n",
    "    lig_v /= np.sqrt((lig_v*lig_v).sum())\n",
    "    cos_t = np.dot(lig_v, np.array([0., 0., 1.]))\n",
    "    return ((lig_com - memb_com)[2], np.arccos(cos_t) * 180.0 / np.pi)\n",
    "\n",
    "top = mdt.load_topology('pol_dppc.prmtop')\n",
    "membrane_atoms = top.select('name P31')\n",
    "ligand_head_atom = top.select('resname POL and name O1')[0]\n",
    "ligand_tail_atom = top.select('resname POL and name C3')[0]\n",
    "\n",
    "progress_coordinator = FunctionProgressCoordinator(ztpc, ligand_head_atom, ligand_tail_atom, membrane_atoms)\n",
    "walkers = progress_coordinator.run(walkers)\n",
    "for w in walkers:\n",
    "    print(w)"
   ]
  },
  {
   "cell_type": "markdown",
   "id": "8ec8fb13",
   "metadata": {},
   "source": [
    "We bin along Z in 0.2 nm intervals, but divide theta into just three bins: 0-45 degrees, 45-135 degrees, and > 135 degrees. This is probably not optimal, but will do for now:"
   ]
  },
  {
   "cell_type": "code",
   "execution_count": null,
   "id": "f0cd2afd",
   "metadata": {},
   "outputs": [],
   "source": [
    "binner = StaticBinner([[-3.6, -3.4, -3.2, -3.0, -2.8, -2.6, -2.4, -2.2, -2.0, -1.8, -1.6, -1.4, -1.2, -1.0, \n",
    "                       -0.8, -0.6, -0.4, -0.2, 0.0, 0.2, \n",
    "                       0.4, 0.6, 0.8, 1.0, 1.2, 1.4, 1.6, 1.8, 2.0, 2.2, 2.4, 2.6, 2.8, 3.0, 3.2, 3.4, 3.6],\n",
    "                       [45.0, 135.0]])\n",
    "walkers = binner.run(walkers)\n",
    "for w in walkers:\n",
    "    print(w)"
   ]
  },
  {
   "cell_type": "markdown",
   "id": "6a751799",
   "metadata": {},
   "source": [
    "We will recycle walkers when the propanol Z-coordinate exceeds 3.6 nm nm, there is no target value for theta (any value will do):"
   ]
  },
  {
   "cell_type": "code",
   "execution_count": null,
   "id": "75359f12",
   "metadata": {},
   "outputs": [],
   "source": [
    "recycler = Recycler(initial_state, [3.6, None])\n",
    "walkers = recycler.run(walkers)\n",
    "for w in walkers:\n",
    "    print(w)\n",
    "print('recycled flux = ',recycler.flux)"
   ]
  },
  {
   "cell_type": "markdown",
   "id": "b2000ad3",
   "metadata": {},
   "source": [
    "There is an issue we need to deal with: due to periodic boundary conditions, the ligand could take a \"short cut\" to the other side of the membrane by _decreasing_ its Z-coordinate sufficiently. To avoid this, we add a supplementary recycler:"
   ]
  },
  {
   "cell_type": "code",
   "execution_count": null,
   "id": "cbb5e059",
   "metadata": {},
   "outputs": [],
   "source": [
    "pbc_recycler = Recycler(initial_state, [-3.8, None], retrograde=True)\n",
    "walkers = pbc_recycler.run(walkers)\n",
    "for w in walkers:\n",
    "    print(w)\n",
    "print('recycled flux = ',recycler.flux) # just to check - we will not be concerned with this during the simulations"
   ]
  },
  {
   "cell_type": "markdown",
   "id": "a0400355",
   "metadata": {},
   "source": [
    "The SplitMerger is just the same as that used for the DWP example. We create it and run it, even though we know that at this time it will have nothing to do:"
   ]
  },
  {
   "cell_type": "code",
   "execution_count": null,
   "id": "fe61da5c",
   "metadata": {},
   "outputs": [],
   "source": [
    "splitmerger = SplitMerger(n_reps)\n",
    "walkers = splitmerger.run(walkers)\n",
    "for w in walkers:\n",
    "    print(w)"
   ]
  },
  {
   "cell_type": "markdown",
   "id": "eb29fbdf",
   "metadata": {},
   "source": [
    "Create a function that will run an OpenMM simulation. The function needs to take the current state of the system as its first argument, and return the final state at the end of the MD. Then use this created function to initialise a FunctionStepper, as was done for the DWP example."
   ]
  },
  {
   "cell_type": "code",
   "execution_count": null,
   "id": "b73d45db",
   "metadata": {},
   "outputs": [],
   "source": [
    "def OMMSim(state, simulation, nsteps):\n",
    "    simulation.context.setPositions(state.getPositions())\n",
    "    simulation.context.setPeriodicBoxVectors(*state.getPeriodicBoxVectors())\n",
    "    simulation.step(nsteps)\n",
    "    return simulation.context.getState(getPositions=True, enforcePeriodicBox=False) # don't try to wrap coordinates\n",
    "\n",
    "stepper = FunctionStepper(OMMSim, simulation, 500)"
   ]
  },
  {
   "cell_type": "markdown",
   "id": "d987c46e",
   "metadata": {},
   "source": [
    "Now we will apply the stepper. Note this will take some time longer to run than in the DWP example, exactly how long will depend on power of your laptop/workstation:"
   ]
  },
  {
   "cell_type": "code",
   "execution_count": null,
   "id": "ea26910d",
   "metadata": {},
   "outputs": [],
   "source": [
    "start_time = time.time()\n",
    "new_walkers = stepper.run(walkers) # this is where the MD happens\n",
    "end_time = time.time()\n",
    "print(f'{len(walkers)} simulations completed in {end_time-start_time:6.1f} seconds')"
   ]
  },
  {
   "cell_type": "markdown",
   "id": "a56c75e6",
   "metadata": {},
   "source": [
    "Let's see where those MD steps have moved each walker to:"
   ]
  },
  {
   "cell_type": "code",
   "execution_count": null,
   "id": "da1a652a",
   "metadata": {},
   "outputs": [],
   "source": [
    "new_walkers = progress_coordinator.run(new_walkers)\n",
    "print('before recycling adjustments:')\n",
    "for w in new_walkers:\n",
    "    print(w)\n",
    "new_walkers = pbc_recycler.run(new_walkers)\n",
    "if pbc_recycler.flux > 0.0:\n",
    "    new_walkers = progress_coordinator.run(new_walkers)\n",
    "new_walkers = recycler.run(new_walkers)\n",
    "if recycler.flux > 0.0:\n",
    "    new_walkers = progress_coordinator.run(new_walkers)\n",
    "new_walkers = binner.run(new_walkers)\n",
    "\n",
    "print('recycled flux = ', recycler.flux)\n",
    "for w in new_walkers:\n",
    "    print(w)"
   ]
  },
  {
   "cell_type": "markdown",
   "id": "2f6bd196",
   "metadata": {},
   "source": [
    "Apply the SplitMerger to the list of walkers:"
   ]
  },
  {
   "cell_type": "code",
   "execution_count": null,
   "id": "d3b0e91b",
   "metadata": {},
   "outputs": [],
   "source": [
    "new_walkers = splitmerger.run(new_walkers)\n",
    "for w in new_walkers:\n",
    "    print(w)"
   ]
  },
  {
   "cell_type": "markdown",
   "id": "57c54e77",
   "metadata": {},
   "source": [
    "### Part 3: Iterating the WE workflow\n",
    "OK, that's all the components in place, they have been tested individually and seem to be bahaving. Time to run a few cycles:"
   ]
  },
  {
   "cell_type": "code",
   "execution_count": null,
   "id": "1e3358ac",
   "metadata": {},
   "outputs": [],
   "source": [
    "n_cycles=10\n",
    "results = []\n",
    "print(' cycle    n_walkers   left-most bin  right-most bin   flux')\n",
    "for i in range(n_cycles):\n",
    "    new_walkers = stepper.run(new_walkers)\n",
    "    new_walkers = progress_coordinator.run(new_walkers)\n",
    "    new_walkers = pbc_recycler.run(new_walkers)\n",
    "    if pbc_recycler.flux > 0.0:\n",
    "        new_walkers = progress_coordinator.run(new_walkers)\n",
    "    new_walkers = recycler.run(new_walkers)\n",
    "    if recycler.flux > 0.0:\n",
    "        new_walkers = progress_coordinator.run(new_walkers)\n",
    "    new_walkers = binner.run(new_walkers)\n",
    "    new_walkers = splitmerger.run(new_walkers)\n",
    "    occupied_bins = list(binner.bin_weights.keys())\n",
    "    print(f' {i:3d} {len(new_walkers):10d} {str(min(occupied_bins)):^14s} {str(max(occupied_bins)):^12s} {recycler.flux:20.8f}')\n",
    "    result = {'cycle': i, 'n_walkers': len(new_walkers), 'pcdata': [w.pc for w in new_walkers]}\n",
    "    results.append(result)"
   ]
  },
  {
   "cell_type": "markdown",
   "id": "251c0252",
   "metadata": {},
   "source": [
    "Plot the current position of each walker in the (Z, theta) plane:"
   ]
  },
  {
   "cell_type": "code",
   "execution_count": null,
   "id": "afa0137d",
   "metadata": {},
   "outputs": [],
   "source": [
    "pcdata = np.array(results[-1]['pcdata'])\n",
    "plt.plot(pcdata[:, 0], pcdata[:, 1], 'go')\n",
    "plt.xlabel('Z (nm)')\n",
    "plt.ylabel('theta (degrees)')"
   ]
  },
  {
   "cell_type": "markdown",
   "id": "56ab6b8f",
   "metadata": {},
   "source": [
    "### Analysis of a longer simulation\n",
    "\n",
    "Clearly this is not an exampole you are going to be able to complete in a notebook. We have provided you with the log file, `pol_dppc.json` obtained when this simulation was run for 100 cycles with 6 walkers per bin. \n",
    "\n",
    "**NB**: as it happens, in this simulation the z-coordinate is efectively 'flipped', so the propanol starts on the *positive* Z-side of the membrane)."
   ]
  },
  {
   "cell_type": "code",
   "execution_count": null,
   "id": "73f09667",
   "metadata": {},
   "outputs": [],
   "source": [
    "with open('pol_dppc.json') as f:\n",
    "    results = json.load(f)\n",
    "# convert progress coordinatre data to numpy:  \n",
    "for result in results:\n",
    "    result['pcdata'] = np.array(result['pcdata'])"
   ]
  },
  {
   "cell_type": "markdown",
   "id": "5828a118",
   "metadata": {},
   "source": [
    "See how the number of walkers increases over time, and how the 'pathfinder' (most advanced walker) advances through the membrane:"
   ]
  },
  {
   "cell_type": "code",
   "execution_count": null,
   "id": "f762fbb8",
   "metadata": {},
   "outputs": [],
   "source": [
    "plt.figure(figsize=(14, 6))\n",
    "plt.subplot(121)\n",
    "plt.plot([r['n_walkers'] for r in results])\n",
    "plt.xlabel('cycle')\n",
    "plt.ylabel('n_walkers)')\n",
    "plt.title('number of walkers')\n",
    "plt.subplot(122)\n",
    "plt.plot([r['pcdata'][:, 0].min() for r in results])\n",
    "plt.xlabel('cycle')\n",
    "plt.ylabel('z_min (nm)')\n",
    "plt.title('pathfinder Z-coordinate')"
   ]
  },
  {
   "cell_type": "markdown",
   "id": "fe0e9562",
   "metadata": {},
   "source": [
    "By the time simulations have percolated all the way through the membrane, we are having to run 500 simulations per cycle - but at least each of these is short! The data we have provided is no way converged, so we will not attemp to calculate a permeation rate from it, but we can still see interesting details:"
   ]
  },
  {
   "cell_type": "code",
   "execution_count": null,
   "id": "7313f3c2",
   "metadata": {},
   "outputs": [],
   "source": [
    "plt.figure(figsize=(14, 4))\n",
    "plt.subplot(131)\n",
    "pcdata_all = np.concatenate([ r['pcdata'] for r in results])\n",
    "plt.plot(pcdata_all[:,0], pcdata_all[:, 1], 'r.')\n",
    "plt.title('walker positions')\n",
    "plt.xlabel('Z (nm)')\n",
    "plt.ylabel('theta (degrees)')\n",
    "plt.subplot(132)\n",
    "H, x_edges, y_edges, b = plt.hist2d(pcdata_all[:, 0], pcdata_all[:, 1], bins=30)\n",
    "plt.title('walker distribution')\n",
    "plt.xlabel('Z (nm)')\n",
    "plt.ylabel('theta (degrees)')\n",
    "plt.subplot(133)\n",
    "xcen = x_edges[:-1] + x_edges[1:] / 2\n",
    "ycen = y_edges[:-1] + y_edges[1:] / 2\n",
    "out = plt.contour(xcen, ycen, H.T)\n",
    "plt.title('walker distribution')\n",
    "plt.xlabel('Z (nm)')\n",
    "plt.ylabel('theta (degrees)')"
   ]
  },
  {
   "cell_type": "markdown",
   "id": "81bc9497",
   "metadata": {},
   "source": [
    "The plots show data for all walkers, all simulation cycles. We see that when walkers are in the aqueous compartments either side of the membrane, the propanol ligands freely adopt any orientation with respect to the membrane plane, but that there is strong - and opposite - orientation preferences at the membrane interfaces themselves. The ligand must 'flip' as it enters the bilayer, and  again as it passes through it. If we had not included theta as a progress coordinate, sampling this process would have been much less efficient. It's important to realise that this would not change the (eventually converged) value of the percolation rate, but would significantly increase the time to get to this."
   ]
  },
  {
   "cell_type": "code",
   "execution_count": null,
   "id": "9aa2f132",
   "metadata": {},
   "outputs": [],
   "source": []
  }
 ],
 "metadata": {
  "kernelspec": {
   "display_name": "Python 3 (ipykernel)",
   "language": "python",
   "name": "python3"
  },
  "language_info": {
   "codemirror_mode": {
    "name": "ipython",
    "version": 3
   },
   "file_extension": ".py",
   "mimetype": "text/x-python",
   "name": "python",
   "nbconvert_exporter": "python",
   "pygments_lexer": "ipython3",
   "version": "3.9.10"
  }
 },
 "nbformat": 4,
 "nbformat_minor": 5
}
