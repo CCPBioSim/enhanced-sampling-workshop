{
 "cells": [
  {
   "cell_type": "markdown",
   "id": "94766e71",
   "metadata": {},
   "source": [
    "# The Weighted Ensemble Method\n",
    "\n",
    "## Sodium Chloride Association Kinetics, with OpenMM\n",
    "\n",
    "The Weighted Ensemble (WE) method provides a route to estimating kinetic and thermodynamic parameters for many different types of biomolecular simulation problem. For a good introduction, see this [2017 review from Zuckerman and Chong](https://pubmed.ncbi.nlm.nih.gov/28301772/).\n",
    "\n",
    "The aim of this notebook is to illustrate the key aspects of \"steady state\" type WE simulations (walkers, progress coordinates, binning, splitting and merging, recycling) with a version of the sodium chloride association kinetics example that also features in the [WESTPA](https://pubmed.ncbi.nlm.nih.gov/26392815/) tutorials, but using `WElib` instead.\n",
    "\n",
    "There is a barrier to the formation of a Na+ - Cl- ion pair in solution as the hydration shells that surround each ion - when separated -  must be disrupted. In this Weighted Ensemble simulation, we begin with a box of water containing one sodium and one chloride ion, about 11 Angstroms (1.1 nm) apart. We measure the rate at which this forms an ion pair (defined as <= 2.6 Angstroms apart).\n",
    "\n",
    "\n",
    "---------\n",
    "\n",
    "### Part 1: Building the OpenMM system\n",
    "We begin by importing the packages required to build the simulation system in OpenMM: "
   ]
  },
  {
   "cell_type": "code",
   "execution_count": null,
   "id": "42ade0ec",
   "metadata": {},
   "outputs": [],
   "source": [
    "import openmm.app as omm_app\n",
    "import openmm as omm\n",
    "import openmm.unit as unit"
   ]
  },
  {
   "cell_type": "markdown",
   "id": "20e652a0",
   "metadata": {},
   "source": [
    "Now we create the `system`, and then a `simulation` object:"
   ]
  },
  {
   "cell_type": "code",
   "execution_count": null,
   "id": "b07de469",
   "metadata": {},
   "outputs": [],
   "source": [
    "prmtop = omm_app.AmberPrmtopFile('nacl.parm7')\n",
    "inpcrd = omm_app.AmberInpcrdFile('nacl_unbound.ncrst')\n",
    "system = prmtop.createSystem(nonbondedMethod=omm_app.PME, nonbondedCutoff=10.0*unit.angstrom,\n",
    "        constraints=omm_app.HBonds)\n",
    "\n",
    "T = 300.0 * unit.kelvin  ## temperature\n",
    "fricCoef = 1.0 / unit.picoseconds ## friction coefficient \n",
    "stepsize = 0.002 * unit.picoseconds ## integration step size\n",
    "integrator = omm.LangevinIntegrator(T, fricCoef, stepsize)\n",
    "\n",
    "simulation = omm_app.Simulation(prmtop.topology, system, integrator)\n",
    "simulation.context.setPositions(inpcrd.positions)\n",
    "if inpcrd.boxVectors is not None:\n",
    "    simulation.context.setPeriodicBoxVectors(*inpcrd.boxVectors)\n",
    "    \n",
    "print(f'OpenMM will use the {simulation.context.getPlatform().getName()} platform')"
   ]
  },
  {
   "cell_type": "markdown",
   "id": "83e6ebd2",
   "metadata": {},
   "source": [
    "### Part 2: Building the WE workflow\n",
    "Now we import WElib and other utilities that will be useful. Many are the same as those used for the simple double well potential example, but we have OpenMM-compatible versions of the `Stepper` and `ProgressCoordinator`:"
   ]
  },
  {
   "cell_type": "code",
   "execution_count": null,
   "id": "88950ef4",
   "metadata": {},
   "outputs": [],
   "source": [
    "import mdtraj as mdt\n",
    "import numpy as np\n",
    "import time\n",
    "from WElib import Walker, FunctionStepper, OMMSimpleDistanceProgressCoordinator, Recycler, StaticBinner, SplitMerger"
   ]
  },
  {
   "cell_type": "markdown",
   "id": "09019475",
   "metadata": {},
   "source": [
    "Create some walkers, each begins in the initial, dissociated, state:"
   ]
  },
  {
   "cell_type": "code",
   "execution_count": null,
   "id": "de64d997",
   "metadata": {},
   "outputs": [],
   "source": [
    "initial_state = simulation.context.getState(getPositions=True, enforcePeriodicBox=True)\n",
    "\n",
    "n_reps = 5\n",
    "walkers = [Walker(initial_state, 1.0/n_reps) for i in range(n_reps)]\n",
    "for w in walkers:\n",
    "    print(w)"
   ]
  },
  {
   "cell_type": "markdown",
   "id": "b527f090",
   "metadata": {},
   "source": [
    "The progress coordinate will be the distance between the sodium and chloride ion:"
   ]
  },
  {
   "cell_type": "code",
   "execution_count": null,
   "id": "bf625fba",
   "metadata": {},
   "outputs": [],
   "source": [
    "na_atom = 0 # index of the sodium atom in the system\n",
    "cl_atom = 1 # index of the chloride ion in the system\n",
    "progress_coordinator = OMMSimpleDistanceProgressCoordinator(a1=na_atom, a2=cl_atom)\n",
    "walkers = progress_coordinator.run(walkers)\n",
    "for w in walkers:\n",
    "    print(w)"
   ]
  },
  {
   "cell_type": "markdown",
   "id": "c219b8b4",
   "metadata": {},
   "source": [
    "We use the same bin boundaries as in the WESTPA tutorials. Notice these are closer-spaced at shorter distances, as the solvation shells get \"stiffer\":"
   ]
  },
  {
   "cell_type": "code",
   "execution_count": null,
   "id": "eb48a794",
   "metadata": {},
   "outputs": [],
   "source": [
    "binner = StaticBinner([0, 0.26, 0.28, 0.3, 0.32, 0.34, 0.36, 0.38, 0.4, 0.45, 0.5, \n",
    "                 0.55, 0.6, 0.7, 0.8, 0.9, 1.0, 1.1, 1.2, 1.3, 1.4, 1.5])\n",
    "walkers = binner.run(walkers)\n",
    "for w in walkers:\n",
    "    print(w)"
   ]
  },
  {
   "cell_type": "markdown",
   "id": "2c9a07e0",
   "metadata": {},
   "source": [
    "We will recycle walkers when the Na-Cl distance falls below 0.26 nm. As the progress coordinate is something that gets smaller as we move towards the target state, this is a \"retrograde\" coordinate:"
   ]
  },
  {
   "cell_type": "code",
   "execution_count": null,
   "id": "df9a1d56",
   "metadata": {},
   "outputs": [],
   "source": [
    "recycler = Recycler(initial_state, 0.26, retrograde=True)\n",
    "walkers = recycler.run(walkers)\n",
    "for w in walkers:\n",
    "    print(w)\n",
    "print('recycled flux = ',recycler.flux)"
   ]
  },
  {
   "cell_type": "markdown",
   "id": "ef368e36",
   "metadata": {},
   "source": [
    "The SplitMerger is just the same as that used for the DWP example. We create it and run it, even though we know that at this time it will have nothing to do:"
   ]
  },
  {
   "cell_type": "code",
   "execution_count": null,
   "id": "07e0e94c",
   "metadata": {},
   "outputs": [],
   "source": [
    "splitmerger = SplitMerger(n_reps)\n",
    "walkers = splitmerger.run(walkers)\n",
    "for w in walkers:\n",
    "    print(w)"
   ]
  },
  {
   "cell_type": "markdown",
   "id": "51958102",
   "metadata": {},
   "source": [
    "Create a function that will run an OpenMM simulation. The function needs to take the current state of the system as its first argument, and return the final state at the end of the MD. Then use this created function to initialise a FunctionStepper, as was done for the DWP example."
   ]
  },
  {
   "cell_type": "code",
   "execution_count": null,
   "id": "5aa6e936",
   "metadata": {},
   "outputs": [],
   "source": [
    "def OMMSim(state, simulation, nsteps):\n",
    "    simulation.context.setPositions(state.getPositions())\n",
    "    simulation.context.setPeriodicBoxVectors(*state.getPeriodicBoxVectors())\n",
    "    simulation.step(nsteps)\n",
    "    return simulation.context.getState(getPositions=True, enforcePeriodicBox=True)\n",
    "\n",
    "stepper = FunctionStepper(OMMSim, simulation, 500)"
   ]
  },
  {
   "cell_type": "markdown",
   "id": "5bc6c0e3",
   "metadata": {},
   "source": [
    "Now we will apply the stepper. Note this will take some time longer to run than in the DWP example, exactly how long will depend on power of your laptop/workstation:"
   ]
  },
  {
   "cell_type": "code",
   "execution_count": null,
   "id": "9176de67",
   "metadata": {},
   "outputs": [],
   "source": [
    "start_time = time.time()\n",
    "new_walkers = stepper.run(walkers) # this is where the MD happens\n",
    "end_time = time.time()\n",
    "print(f'{len(walkers)} simulations completed in {end_time-start_time:6.1f} seconds')"
   ]
  },
  {
   "cell_type": "markdown",
   "id": "9b072966",
   "metadata": {},
   "source": [
    "Let's see where those MD steps have moved each walker to:"
   ]
  },
  {
   "cell_type": "code",
   "execution_count": null,
   "id": "5d663632",
   "metadata": {},
   "outputs": [],
   "source": [
    "new_walkers = progress_coordinator.run(new_walkers)\n",
    "new_walkers = binner.run(new_walkers)\n",
    "new_walkers = recycler.run(new_walkers)\n",
    "print('recycled flux = ', recycler.flux)\n",
    "for w in new_walkers:\n",
    "    print(w)"
   ]
  },
  {
   "cell_type": "markdown",
   "id": "25306c3c",
   "metadata": {},
   "source": [
    "Apply the SplitMerger to the list of walkers:"
   ]
  },
  {
   "cell_type": "code",
   "execution_count": null,
   "id": "5329aee7",
   "metadata": {},
   "outputs": [],
   "source": [
    "new_walkers = splitmerger.run(new_walkers)\n",
    "for w in new_walkers:\n",
    "    print(w)"
   ]
  },
  {
   "cell_type": "markdown",
   "id": "a4ae4574",
   "metadata": {},
   "source": [
    "### Part 3: Iterating the WE workflow\n",
    "OK, that's all the components in place, they have been tested individually and seem to be bahaving. Time to run a few cycles:"
   ]
  },
  {
   "cell_type": "code",
   "execution_count": null,
   "id": "e1548a32",
   "metadata": {},
   "outputs": [],
   "source": [
    "n_cycles=10\n",
    "print(' cycle    n_walkers   left-most bin  right-most bin   flux')\n",
    "for i in range(n_cycles):\n",
    "    new_walkers = stepper.run(new_walkers)\n",
    "    new_walkers = progress_coordinator.run(new_walkers)\n",
    "    new_walkers = binner.run(new_walkers)\n",
    "    new_walkers = recycler.run(new_walkers)\n",
    "    if recycler.flux > 0.0:\n",
    "        new_walkers = progress_coordinator.run(new_walkers)\n",
    "        new_walkers = binner.run(new_walkers)\n",
    "    new_walkers = splitmerger.run(new_walkers)\n",
    "    occupied_bins = list(binner.bin_weights.keys())\n",
    "    print(f' {i:3d} {len(new_walkers):10d} {min(occupied_bins):12d} {max(occupied_bins):14d} {recycler.flux:20.8f}')"
   ]
  },
  {
   "cell_type": "markdown",
   "id": "bf41cb6d",
   "metadata": {},
   "source": [
    "The take-home message should be fairly obvious: even on a system as small as this, you can't really run WE simulations interactively - they need time and considerable compute resources. We'll come to how you can move from Jupyter Notebooks to HPC systems in a later part of the workshop. But for now, let's see how we can get some useful/interesting data from the stepper's `Recorder`.\n",
    "\n",
    "#### Generating trajectory files\n",
    "You can use MDTraj to write out the path taken so far by any of the walkers in the form of a trajectory that could be visualised. \n",
    "\n",
    "The `replay` method of the recorder outputs a list of the states visited by the given walker. Being OpenMM states, these have a `getPositions` method that can be used to extract atom coordinates, which can then be used to generate an MDTraj `trajectory`:"
   ]
  },
  {
   "cell_type": "code",
   "execution_count": null,
   "id": "4a7591d0",
   "metadata": {},
   "outputs": [],
   "source": [
    "chosen_walker = 0\n",
    "top = mdt.load_topology('nacl.parm7')\n",
    "xyz = []\n",
    "for s in stepper.recorder.replay(new_walkers[chosen_walker]):\n",
    "    xyz.append(s.getPositions(asNumpy=True) / unit.nanometer)\n",
    "t = mdt.Trajectory(xyz, top)\n",
    "print(t)\n",
    "t.save(f'walker_trajectory_{chosen_walker}.nc')"
   ]
  },
  {
   "cell_type": "markdown",
   "id": "a819e506",
   "metadata": {},
   "source": [
    "#### Plotting progress coordinates\n",
    "You can plot the history of the progress coordinate of a walker. Create a list of fresh walkers, each initialised with one of the states visited by the chosen walker. Then pass this list through the `ProgressCoordinator` to add PC data, then you can plot this:"
   ]
  },
  {
   "cell_type": "code",
   "execution_count": null,
   "id": "22c37acf",
   "metadata": {},
   "outputs": [],
   "source": [
    "from matplotlib import pyplot as plt\n",
    "%matplotlib inline\n",
    "chosen_walker = -1\n",
    "walker_list = [Walker(state, 1.0) for state in stepper.recorder.replay(new_walkers[chosen_walker])]\n",
    "walker_list = progress_coordinator.run(walker_list)\n",
    "plt.plot([w.pc for w in walker_list])\n",
    "plt.xlabel('step #')\n",
    "plt.ylabel('progress coordinate')"
   ]
  },
  {
   "cell_type": "markdown",
   "id": "ebdc8e02",
   "metadata": {},
   "source": [
    "### Analysis of a longer simulation\n",
    "\n",
    "We have provided you with the log file, `nacl.log` obtained when this simulation was run for 500 cycles (each cycle being 2ps, rather than 1ps as above)."
   ]
  },
  {
   "cell_type": "code",
   "execution_count": null,
   "id": "3b7c5731",
   "metadata": {},
   "outputs": [],
   "source": [
    "# Extract data from the log file. Get:\n",
    "#\n",
    "# n_walkers: the number of walkers each cycle\n",
    "# flux: the recycled flux, each cycle\n",
    "# bin_weights: a dictionary with the cumulative weight of simulation in each bin\n",
    "#\n",
    "with open('nacl.log') as f:\n",
    "    data = f.readlines()\n",
    "\n",
    "n_walkers = []\n",
    "flux = []\n",
    "for d in data[1:-1]:\n",
    "    w = d.split()\n",
    "    n_walkers.append(int(w[1]))\n",
    "    flux.append(float(w[4]))\n",
    "\n",
    "n_walkers = np.array(n_walkers)\n",
    "flux = np.array(flux)\n",
    "bin_weights = eval(data[-1])\n",
    "\n",
    "# normalise bin weights:\n",
    "mean_weights = np.array(list(bin_weights.values()))\n",
    "mean_weights /= mean_weights.sum() "
   ]
  },
  {
   "cell_type": "markdown",
   "id": "d3daeceb",
   "metadata": {},
   "source": [
    "Plot key data:"
   ]
  },
  {
   "cell_type": "code",
   "execution_count": null,
   "id": "739fdc17",
   "metadata": {},
   "outputs": [],
   "source": [
    "from matplotlib import pyplot as plt\n",
    "%matplotlib inline\n",
    "\n",
    "plt.figure(figsize=(10,8))\n",
    "plt.subplot(221)\n",
    "plt.plot(flux)\n",
    "plt.xlabel('cycle #')\n",
    "plt.ylabel('flux)')\n",
    "plt.subplot(222)\n",
    "plt.plot(n_walkers)\n",
    "plt.xlabel('cycle #')\n",
    "plt.ylabel('n_walkers)')\n",
    "plt.subplot(223)\n",
    "plt.plot(mean_weights)\n",
    "plt.xlabel('bin #')\n",
    "plt.ylabel('relative weight)')\n",
    "print(f'mean flux = {flux[30:].mean():6.4g}')"
   ]
  },
  {
   "cell_type": "markdown",
   "id": "c66dd526",
   "metadata": {},
   "source": [
    "The erratic pattern of flux recycling, and the rapid increase and then plateauing in the number of walkers each cycle, are apparent. The majority of the simulation weight remains in the last bin (Na-Cl sepaation > 1.5 nm). To calculate the association rate from the flux, we need to decide on where the boundary between the unassociated and associated states is, and - as this is an association rate constant with units of 1/(time\\*concentration) - do a volume correction.\n",
    "\n",
    "Zooming in a bit on the weights data reveals a 'kink' in the profile that is a fair guide to where the transition state probably is (there is no neeed to be super-exact about this in a case like this). It suggests we can regard the first 10 bins as being on the associated side of the barrier, so the rest count towards the unassociated concentration:"
   ]
  },
  {
   "cell_type": "code",
   "execution_count": null,
   "id": "40b7584e",
   "metadata": {},
   "outputs": [],
   "source": [
    "plt.plot(mean_weights[:18])\n",
    "plt.xlabel('bin #')\n",
    "plt.ylabel('relative weight)')"
   ]
  },
  {
   "cell_type": "markdown",
   "id": "3ffca544",
   "metadata": {},
   "source": [
    "Now the volume correction. The maths below calculates this for a triclinic periodic cell:"
   ]
  },
  {
   "cell_type": "code",
   "execution_count": null,
   "id": "5e13f144",
   "metadata": {},
   "outputs": [],
   "source": [
    "bv = inpcrd.boxVectors\n",
    "a, b, c = [np.linalg.norm(b) for b in bv] # unit cell vector lengths\n",
    "unit_vectors = [b / np.linalg.norm(b) for b in bv]\n",
    "cosalpha = np.dot(unit_vectors[1], unit_vectors[2]) #\n",
    "cosbeta = np.dot(unit_vectors[0], unit_vectors[2])  # unit cell angles\n",
    "cosgamma = np.dot(unit_vectors[0], unit_vectors[1]) #\n",
    "volume = a*b*c*(1 - cosalpha**2 - cosbeta**2 - cosgamma**2) + 2* np.sqrt(np.abs(cosalpha*cosbeta*cosgamma))\n",
    "print(f'unit cell volume = {volume:6.4g} nm**3')"
   ]
  },
  {
   "cell_type": "code",
   "execution_count": null,
   "id": "b9896749",
   "metadata": {},
   "outputs": [],
   "source": [
    "boundary_bin = 10 # boundary between what's considered \"associated\" and \"disassociated\"\n",
    "w_u = mean_weights[boundary_bin:].sum() / mean_weights.sum()\n",
    "print(f'unbound weight = {w_u:6.4g}')\n",
    "\n",
    "NA = 6.022e+23\n",
    "nm3_to_dm3 = 1e-24\n",
    "time_step_to_seconds = 1 / 5e11 # the WE simulations are 2 ps per cycle\n",
    "concentration = w_u / (volume * NA * nm3_to_dm3)\n",
    "print(f'concentration of unassociated ion = {concentration:6.4g} M')\n",
    "\n",
    "k_assoc = flux.mean() / (concentration * time_step_to_seconds)\n",
    "print(f'Association rate constant = {k_assoc:6.4g} / M.second')"
   ]
  },
  {
   "cell_type": "markdown",
   "id": "62ad148a",
   "metadata": {},
   "source": [
    "The result is quite close to the diffusion limit for bimolecular asssociation in water (about 7e9 /M.second, see [here](https://en.wikipedia.org/wiki/Diffusion-controlled_reaction).\n",
    "\n",
    "### Experiments to try:\n",
    "\n",
    "What happens to the predicted association constant if you decide to move the division between bound and unbound states to a different bin boundary?\n",
    "\n",
    "You will find a restart file for the \"bound\" state of the NaCl system in this directory. Try to construct a WE workflow to predict the unbinding rate."
   ]
  },
  {
   "cell_type": "code",
   "execution_count": null,
   "id": "a277a6b4",
   "metadata": {},
   "outputs": [],
   "source": []
  }
 ],
 "metadata": {
  "kernelspec": {
   "display_name": "Python 3 (ipykernel)",
   "language": "python",
   "name": "python3"
  },
  "language_info": {
   "codemirror_mode": {
    "name": "ipython",
    "version": 3
   },
   "file_extension": ".py",
   "mimetype": "text/x-python",
   "name": "python",
   "nbconvert_exporter": "python",
   "pygments_lexer": "ipython3",
   "version": "3.9.15"
  }
 },
 "nbformat": 4,
 "nbformat_minor": 5
}
