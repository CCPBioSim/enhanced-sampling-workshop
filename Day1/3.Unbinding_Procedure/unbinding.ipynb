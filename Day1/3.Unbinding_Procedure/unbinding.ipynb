{
 "cells": [
  {
   "cell_type": "markdown",
   "metadata": {},
   "source": [
    "# 3. Protein-Ligand Unbinding"
   ]
  },
  {
   "cell_type": "markdown",
   "metadata": {},
   "source": [
    "## Introduction\n",
    "\n",
    "Besides binding thermodynamics, binding kinetics are an important aspect of host-guest complexation. Ideal ligands do not only have a favourable binding free energy, but also a considerable residence time, implying it has a high enough reaction barrier to prevent frequent binding events.\n",
    "\n",
    "Unlike thermodynamics, studying kinetics requires knowledge of the entire path of the process. In this section, we present an adaptive biasing algorithm, designed to acquire unbinding paths of protein-ligand complexes.\n",
    "\n"
   ]
  },
  {
   "cell_type": "markdown",
   "metadata": {},
   "source": [
    "<center>\n",
    "<img src=\"static/unbinding_chart.jpeg\" alt=\"flowchart\" width=\"600\"/>\n",
    "</center>\n",
    "\n",
    "Details of the algorithm are available in [this](https://pubs.acs.org/doi/full/10.1021/acs.jctc.1c00924) publication, the code is available [online](https://github.com/rostaresearch/unbinding).\n",
    "\n",
    "This tutorial contains a modified and simplified version to showcase its logic in this notebook."
   ]
  },
  {
   "cell_type": "markdown",
   "metadata": {},
   "source": [
    "### Notes about the unbinding trajectory\n",
    "These trajectories were stripped of ions and water molecules for this demonstrative analysis.\n",
    "\n",
    "The example system is a trypsin-benzamidine complex, PDB ID [3ATL](https://www.rcsb.org/structure/3ATL). We used CHARMM36m for the protein, TIP3 water, and standard CGenFF parametrisation of the benzamidine.\n",
    "\n",
    "<center>\n",
    "<img src=\"static/bound.png\" alt=\"bound benzamidine\" width=\"600\"/>\n",
    "</center>"
   ]
  },
  {
   "cell_type": "markdown",
   "metadata": {},
   "source": [
    "## Standard Usage"
   ]
  },
  {
   "cell_type": "code",
   "execution_count": null,
   "metadata": {},
   "outputs": [],
   "source": [
    "import os\n",
    "from main import Arguments, run"
   ]
  },
  {
   "cell_type": "markdown",
   "metadata": {},
   "source": [
    "We will set the ligand name to 'BEN', and in order to read the `dcd` trajectories, we will use the file `topology_clean.pdb`.\n",
    "\n",
    "We have to fetch the example from [here](https://www.dropbox.com/sh/wy7rbqxrofaq946/AABFGGXAxWz7LquJnISeVYQca?dl=0)."
   ]
  },
  {
   "cell_type": "code",
   "execution_count": null,
   "metadata": {},
   "outputs": [],
   "source": [
    "os.chdir(\"example\")"
   ]
  },
  {
   "cell_type": "markdown",
   "metadata": {},
   "source": [
    "### Important arguments\n",
    "| Argument    | Type     | Default |\n",
    "|-------------|:---------|--------:|\n",
    "| lig         | string   |     LIG |\n",
    "| top         | string   |  \"find\" |\n",
    "| cutoff      | float(Å) |     3.5 |\n",
    "| maxdist     | float(Å) |     9.0 |\n",
    "\n",
    "We have a control over what is considered a contact (cutoff), and what is the point when we do not have to bias it anymore (maxdist). We found the defaults fairly universal, but there is a freedom to adapt them to your needs.\n",
    "\n",
    "You may notice there is a third criterium regarding selecting a distance: it's variance. Biasing a largely flexible contact may distort the structure instead of helping the unbinding. However, this issue primarily emerges when no chemical moiety clustering is employed.\n",
    "\n",
    "### Clustering\n",
    "We use a structure based atom grouping, or clustering to deal with molecular symmetries. Take a look at the figure above, and the contact of the benzamidine to the Asp189. Considering the Lewis structure (which manifests in the atom names, not the parameters), there are rotations the system should be invariant to:\n",
    "\n",
    "<center>\n",
    "<img src=\"static/clustering_example.png\" alt=\"clustering\" width=\"400\"/>\n",
    "</center>\n",
    "\n",
    "Therefore, by default, contacts are biased between the centre of mass of such groups. For protein residues, the clustering is embedded in the code, for ligands, you can define it `toppar/LIG_clusters.dat`. (You will see the three heavy atoms of the amidine group in one line.)"
   ]
  },
  {
   "cell_type": "code",
   "execution_count": null,
   "metadata": {},
   "outputs": [],
   "source": [
    "with open(\"toppar/LIG_clusters.dat\", \"r\") as f:\n",
    "    for l in f: print(l.strip())"
   ]
  },
  {
   "cell_type": "markdown",
   "metadata": {},
   "source": [
    "Now we are ready to analyse the unbiased run `traj_0`"
   ]
  },
  {
   "cell_type": "code",
   "execution_count": null,
   "metadata": {},
   "outputs": [],
   "source": [
    "args = Arguments(lig=\"BEN\", top=\"topology_clean.pdb\", processonly=True)\n",
    "run(args)\n",
    "# processonly is necessary to supress writing inputs for the next iteration"
   ]
  },
  {
   "cell_type": "markdown",
   "metadata": {},
   "source": [
    "The distances are displayed between certain atoms, but in fact, they are groups in the colvar function used in NAMD. Furthermore, they are not biased individually, but their sum.\n",
    "\n",
    "<center>\n",
    "<img src=\"static/bias1.png\" alt=\"initial contacts\" width=\"600\"/>\n",
    "</center>\n",
    "\n",
    "This now have written a binary checkpoint file in you `example` directory. It is automatically used in further iterations."
   ]
  },
  {
   "cell_type": "code",
   "execution_count": null,
   "metadata": {},
   "outputs": [],
   "source": [
    "args = Arguments(processonly=True)\n",
    "for _ in range(3):\n",
    "    run(args)"
   ]
  },
  {
   "cell_type": "markdown",
   "metadata": {},
   "source": [
    "After processing `traj_3`, you notice two new distances.\n",
    "<center>\n",
    "<img src=\"static/bias4.png\" alt=\"first new contact\" width=\"600\"/>\n",
    "</center>\n",
    "\n",
    "The colvars are recorded during the iterations, and they are summerised in `tracked_distances.csv`."
   ]
  },
  {
   "cell_type": "code",
   "execution_count": null,
   "metadata": {},
   "outputs": [],
   "source": [
    "with open(\"distances_tracked.csv\", \"r\") as f:\n",
    "    for l in f: print(l.strip())"
   ]
  },
  {
   "cell_type": "code",
   "execution_count": null,
   "metadata": {},
   "outputs": [],
   "source": [
    "run(args)   # trajectory 5 is coming up"
   ]
  },
  {
   "cell_type": "markdown",
   "metadata": {},
   "source": [
    "Now we can see the first distance being excluded."
   ]
  },
  {
   "cell_type": "code",
   "execution_count": null,
   "metadata": {},
   "outputs": [],
   "source": [
    "for _ in range(2): run(args)"
   ]
  },
  {
   "cell_type": "markdown",
   "metadata": {},
   "source": [
    "The process goes on similarly, sometimes adding, sometimes removing contacts from the colvar. At any point, you may see what the status is according to the checkpoint (the interesting parts are on the top, it finishes with the NAMD input):"
   ]
  },
  {
   "cell_type": "code",
   "execution_count": null,
   "metadata": {},
   "outputs": [],
   "source": [
    "run(Arguments(report=True))"
   ]
  },
  {
   "cell_type": "code",
   "execution_count": null,
   "metadata": {},
   "outputs": [],
   "source": [
    "for _ in range(4): run(args)"
   ]
  },
  {
   "cell_type": "markdown",
   "metadata": {},
   "source": [
    "We have finished processing the trajectories saved in this example. Let us inspect the summary."
   ]
  },
  {
   "cell_type": "code",
   "execution_count": null,
   "metadata": {},
   "outputs": [],
   "source": [
    "with open(\"distances_tracked.csv\", \"r\") as f:\n",
    "    for l in f: print(l.strip())"
   ]
  },
  {
   "cell_type": "markdown",
   "metadata": {},
   "source": [
    "At this point, the ligand is outside the pocket, exposed to the bulk water. It may wonder around the protein, so depending on the unbinding settings, it may take further iterations to eliminate all contacts. Nevertheless, running an unbiased simulation from this point will also likely result in a free-roaming ligand.\n",
    "\n",
    "<center>\n",
    "<img src=\"static/bias11.png\" alt=\"after 11 iterations\" width=\"600\"/>\n",
    "</center>"
   ]
  },
  {
   "cell_type": "markdown",
   "metadata": {},
   "source": [
    "To better understand the biasing, run another step, but this time without `processonly`."
   ]
  },
  {
   "cell_type": "code",
   "execution_count": null,
   "metadata": {},
   "outputs": [],
   "source": [
    "run(Arguments())"
   ]
  },
  {
   "cell_type": "markdown",
   "metadata": {},
   "source": [
    "This should create the folder `traj_12` with a NAMD input file `traj_12.inp`, based on the template and the colvar file `sum_12.col`. In the latter, you will see the groups defined by indices (same as in VMD) and that the sum of those is being progressively shifted from 32.79 to 36.79."
   ]
  },
  {
   "cell_type": "code",
   "execution_count": null,
   "metadata": {},
   "outputs": [],
   "source": [
    "with open(\"traj_12/sum_12.col\", \"r\") as f:\n",
    "    for l in f: print(l.strip())"
   ]
  },
  {
   "cell_type": "markdown",
   "metadata": {},
   "source": [
    "## Additional Options\n",
    "\n",
    "The complete list of options is available in the [public repository of the unbinding method](https://github.com/rostaresearch/unbinding), here we learn about a few more to play with the results.\n",
    "\n",
    "You can always rerun any existing step without giving up your checkpoint with `nosave`."
   ]
  },
  {
   "cell_type": "code",
   "execution_count": null,
   "metadata": {},
   "outputs": [],
   "source": [
    "args = Arguments(processonly=True, trajectory=7, nosave=True)\n",
    "run(args)"
   ]
  },
  {
   "cell_type": "markdown",
   "metadata": {},
   "source": [
    "Should you corrupt your checkpoint, there is also an option to catch up from scratch. This is especially useful if you want to play with the contact definition."
   ]
  },
  {
   "cell_type": "code",
   "execution_count": null,
   "metadata": {},
   "outputs": [],
   "source": [
    "# with cumulative, you will always need the initial setup parameters as well, as it does not use the checkpoint\n",
    "args = Arguments(cutoff=3.3, maxdist=6, lig=\"BEN\", top=\"topology_clean.pdb\", processonly=True, trajectory=5, nosave=True, cumulative=True)\n",
    "run(args)"
   ]
  },
  {
   "cell_type": "markdown",
   "metadata": {},
   "source": [
    "## Explore the Unbinding\n",
    "\n",
    "Here I leave two cells for you to try things. Feel free to dig in and ask questions."
   ]
  },
  {
   "cell_type": "code",
   "execution_count": null,
   "metadata": {},
   "outputs": [],
   "source": [
    "args = Arguments(\n",
    "    trajectory=5,\n",
    "    cumulative=True,\n",
    "    cutoff=3,\n",
    "    maxdist=5,\n",
    "    processonly=True,\n",
    "    nosave=True,\n",
    "    lig=\"BEN\",\n",
    "    top=\"topology_clean.pdb\",\n",
    ")\n",
    "run(args)"
   ]
  },
  {
   "cell_type": "code",
   "execution_count": null,
   "metadata": {},
   "outputs": [],
   "source": [
    "with open(\"distances_tracked.csv\", \"r\") as f:\n",
    "    for l in f: print(l.strip())"
   ]
  },
  {
   "cell_type": "code",
   "execution_count": null,
   "metadata": {},
   "outputs": [],
   "source": []
  }
 ],
 "metadata": {
  "kernelspec": {
   "display_name": "Python 3 (ipykernel)",
   "language": "python",
   "name": "python3"
  },
  "language_info": {
   "codemirror_mode": {
    "name": "ipython",
    "version": 3
   },
   "file_extension": ".py",
   "mimetype": "text/x-python",
   "name": "python",
   "nbconvert_exporter": "python",
   "pygments_lexer": "ipython3",
   "version": "3.9.15"
  }
 },
 "nbformat": 4,
 "nbformat_minor": 1
}
