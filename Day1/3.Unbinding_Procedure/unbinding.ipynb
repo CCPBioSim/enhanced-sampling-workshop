{
 "cells": [
  {
   "cell_type": "markdown",
   "source": [
    "# 3. Protein-Ligand Unbinding"
   ],
   "metadata": {
    "collapsed": false
   }
  },
  {
   "cell_type": "markdown",
   "source": [
    "## Introduction\n",
    "\n",
    "Besides binding thermodynamics, binding kinetics are an important aspect of host-guest complexation. Ideal ligands do not only have a favourable binding free energy, but also a considerable residence time, implying it has a high enough reaction barrier to prevent frequent binding events.\n",
    "\n",
    "Unlike thermodynamics, studying kinetics requires knowledge of the entire path of the process. In this section, we present an adaptive biasing algorithm, designed to acquire unbinding paths of protein-ligand complexes.\n",
    "\n"
   ],
   "metadata": {
    "collapsed": false
   }
  },
  {
   "cell_type": "markdown",
   "source": [
    "<center>\n",
    "<img src=\"static/unbinding_chart.jpeg\" alt=\"flowchart\" width=\"600\"/>\n",
    "</center>\n",
    "\n",
    "Details of the algorithm are available in [this](https://pubs.acs.org/doi/full/10.1021/acs.jctc.1c00924) publication, the code is available [online](https://github.com/rostaresearch/unbinding).\n",
    "\n",
    "This tutorial contains a modified and simplified version to showcase its logic in this notebook."
   ],
   "metadata": {
    "collapsed": false
   }
  },
  {
   "cell_type": "markdown",
   "source": [
    "### Notes about the unbinding trajectory\n",
    "These trajectories were stripped of ions and water molecules for this demonstrative analysis.\n",
    "\n",
    "The example system is a trypsin-benzamidine complex, PDB ID [3ATL](https://www.rcsb.org/structure/3ATL). We used CHARMM36m for the protein, TIP3 water, and standard CGenFF parametrisation of the benzamidine.\n",
    "\n",
    "<center>\n",
    "<img src=\"static/bound.png\" alt=\"bound benzamidine\" width=\"600\"/>\n",
    "</center>"
   ],
   "metadata": {
    "collapsed": false
   }
  },
  {
   "cell_type": "markdown",
   "source": [
    "## Standard Usage"
   ],
   "metadata": {
    "collapsed": false
   }
  },
  {
   "cell_type": "code",
   "execution_count": 1,
   "outputs": [],
   "source": [
    "import os\n",
    "from main import Arguments, run"
   ],
   "metadata": {
    "collapsed": false
   }
  },
  {
   "cell_type": "markdown",
   "source": [
    "We will set the ligand name to 'BEN', and in order to read the `dcd` trajectories, we will use the file `topology_clean.pdb`.\n",
    "\n",
    "We have to fetch the example from [here](https://www.dropbox.com/sh/wy7rbqxrofaq946/AABFGGXAxWz7LquJnISeVYQca?dl=0)."
   ],
   "metadata": {
    "collapsed": false
   }
  },
  {
   "cell_type": "code",
   "execution_count": 2,
   "outputs": [],
   "source": [
    "os.chdir(\"example\")"
   ],
   "metadata": {
    "collapsed": false
   }
  },
  {
   "cell_type": "markdown",
   "source": [
    "### Important arguments\n",
    "| Argument    | Type     | Default |\n",
    "|-------------|:---------|--------:|\n",
    "| lig         | string   |     LIG |\n",
    "| top         | string   |  \"find\" |\n",
    "| cutoff      | float(Å) |     3.5 |\n",
    "| maxdist     | float(Å) |     9.0 |\n",
    "\n",
    "We have a control over what is considered a contact (cutoff), and what is the point when we do not have to bias it anymore (maxdist). We found the defaults fairly universal, but there is a freedom to adapt them to your needs.\n",
    "\n",
    "You may notice there is a third criterium regarding selecting a distance: it's variance. Biasing a largely flexible contact may distort the structure instead of helping the unbinding. However, this issue primarily emerges when no chemical moiety clustering is employed.\n",
    "\n",
    "### Clustering\n",
    "We use a structure based atom grouping, or clustering to deal with molecular symmetries. Take a look at the figure above, and the contact of the benzamidine to the Asp189. Considering the Lewis structure (which manifests in the atom names, not the parameters), there are rotations the system should be invariant to:\n",
    "\n",
    "<center>\n",
    "<img src=\"static/clustering_example.png\" alt=\"clustering\" width=\"400\"/>\n",
    "</center>\n",
    "\n",
    "Therefore, by default, contacts are biased between the centre of mass of such groups. For protein residues, the clustering is embedded in the code, for ligands, you can define it `toppar/LIG_clusters.dat`. (You will see the three heavy atoms of the amidine group in one line.)"
   ],
   "metadata": {
    "collapsed": false
   }
  },
  {
   "cell_type": "code",
   "execution_count": 3,
   "outputs": [
    {
     "name": "stdout",
     "output_type": "stream",
     "text": [
      "N1 N2 C7\n"
     ]
    }
   ],
   "source": [
    "with open(\"toppar/LIG_clusters.dat\", \"r\") as f:\n",
    "    for l in f: print(l.strip())"
   ],
   "metadata": {
    "collapsed": false
   }
  },
  {
   "cell_type": "markdown",
   "source": [
    "Now we are ready to analyse the unbiased run `traj_0`"
   ],
   "metadata": {
    "collapsed": false
   }
  },
  {
   "cell_type": "code",
   "execution_count": 4,
   "outputs": [
    {
     "name": "stdout",
     "output_type": "stream",
     "text": [
      "\n",
      "TRAJECTORY 1\n",
      "\n",
      "Pairs used in this cycle:\n",
      "3227 5 C7 2486 190 O\n",
      "3227 5 C7 2471 189 CG\n",
      "3227 5 C7 2483 190 OG\n",
      "3227 5 C7 2791 214 O\n",
      "3227 5 C7 2903 222 CA\n",
      "\n"
     ]
    }
   ],
   "source": [
    "args = Arguments(lig=\"BEN\", top=\"topology_clean.pdb\", processonly=True)\n",
    "run(args)\n",
    "# processonly is necessary to supress writing inputs for the next iteration"
   ],
   "metadata": {
    "collapsed": false
   }
  },
  {
   "cell_type": "markdown",
   "source": [
    "The distances are displayed between certain atoms, but in fact, they are groups in the colvar function used in NAMD. Furthermore, they are not biased individually, but their sum.\n",
    "\n",
    "<center>\n",
    "<img src=\"static/bias1.png\" alt=\"initial contacts\" width=\"600\"/>\n",
    "</center>\n",
    "\n",
    "This now have written a binary checkpoint file in you `example` directory. It is automatically used in further iterations."
   ],
   "metadata": {
    "collapsed": false
   }
  },
  {
   "cell_type": "code",
   "execution_count": 5,
   "outputs": [
    {
     "name": "stdout",
     "output_type": "stream",
     "text": [
      "TRAJECTORY 2\n",
      "\n",
      "Pairs used in this cycle:\n",
      "3227 5 C7 2486 190 O\n",
      "3227 5 C7 2471 189 CG\n",
      "3227 5 C7 2483 190 OG\n",
      "3227 5 C7 2791 214 O\n",
      "3227 5 C7 2903 222 CA\n",
      "\n",
      "TRAJECTORY 3\n",
      "\n",
      "Pairs used in this cycle:\n",
      "3227 5 C7 2486 190 O\n",
      "3227 5 C7 2791 214 O\n",
      "3227 5 C7 2471 189 CG\n",
      "3227 5 C7 2483 190 OG\n",
      "3227 5 C7 2903 222 CA\n",
      "\n",
      "TRAJECTORY 4\n",
      "\n",
      "Pairs used in this cycle:\n",
      "3227 5 C7 2799 215 SG\n",
      "3227 5 C7 2784 213 O\n",
      "3227 5 C7 2486 190 O\n",
      "3227 5 C7 2791 214 O\n",
      "3227 5 C7 2471 189 CG\n",
      "3227 5 C7 2483 190 OG\n",
      "3227 5 C7 2903 222 CA\n",
      "\n"
     ]
    }
   ],
   "source": [
    "args = Arguments(processonly=True)\n",
    "for _ in range(3):\n",
    "    run(args)"
   ],
   "metadata": {
    "collapsed": false
   }
  },
  {
   "cell_type": "markdown",
   "source": [
    "After processing `traj_3`, you notice two new distances.\n",
    "<center>\n",
    "<img src=\"static/bias4.png\" alt=\"first new contact\" width=\"600\"/>\n",
    "</center>\n",
    "\n",
    "The colvars are recorded during the iterations, and they are summerised in `tracked_distances.csv`."
   ],
   "metadata": {
    "collapsed": false
   }
  },
  {
   "cell_type": "code",
   "execution_count": 6,
   "outputs": [
    {
     "name": "stdout",
     "output_type": "stream",
     "text": [
      "pairs:     01  02  03  04  05  06  07\n",
      "Traj_01     X   X   X   X   X   0   0\n",
      "Traj_02     X   X   X   X   X   0   0\n",
      "Traj_03     X   X   X   X   X   0   0\n",
      "Traj_04     X   X   X   X   X   X   X\n",
      "\n",
      "LEGEND\n",
      "Ligand             Protein\n",
      "ID  index  resid  type  index  resid  type\n",
      "01   3227      6  C7     2486    191  O\n",
      "02   3227      6  C7     2471    190  CG\n",
      "03   3227      6  C7     2483    191  OG\n",
      "04   3227      6  C7     2791    215  O\n",
      "05   3227      6  C7     2903    223  CA\n",
      "06   3227      6  C7     2799    216  SG\n",
      "07   3227      6  C7     2784    214  O\n"
     ]
    }
   ],
   "source": [
    "with open(\"distances_tracked.csv\", \"r\") as f:\n",
    "    for l in f: print(l.strip())"
   ],
   "metadata": {
    "collapsed": false
   }
  },
  {
   "cell_type": "code",
   "execution_count": 7,
   "outputs": [
    {
     "name": "stdout",
     "output_type": "stream",
     "text": [
      "Distance with id 02 is excluded since the the avarage distance\n",
      "                        in the last quarter ot the simulation is 9.43 A\n",
      "TRAJECTORY 5\n",
      "\n",
      "Pairs used in this cycle:\n",
      "3227 5 C7 2773 212 O\n",
      "3227 5 C7 2791 214 O\n",
      "3227 5 C7 2799 215 SG\n",
      "3227 5 C7 2784 213 O\n",
      "3227 5 C7 2486 190 O\n",
      "3227 5 C7 2483 190 OG\n",
      "3227 5 C7 2903 222 CA\n",
      "\n"
     ]
    }
   ],
   "source": [
    "run(args)   # trajectory 5 is coming up"
   ],
   "metadata": {
    "collapsed": false
   }
  },
  {
   "cell_type": "markdown",
   "source": [
    "Now we can see the first distance being excluded."
   ],
   "metadata": {
    "collapsed": false
   }
  },
  {
   "cell_type": "code",
   "execution_count": 8,
   "outputs": [
    {
     "name": "stdout",
     "output_type": "stream",
     "text": [
      "Distance with id 03 is excluded since the the avarage distance\n",
      "                        in the last quarter ot the simulation is 10.74 A\n",
      "TRAJECTORY 6\n",
      "\n",
      "Pairs used in this cycle:\n",
      "3227 5 C7 2507 192 CD\n",
      "3227 5 C7 2773 212 O\n",
      "3227 5 C7 2791 214 O\n",
      "3226 5 C6 2791 214 O\n",
      "3227 5 C7 2799 215 SG\n",
      "3227 5 C7 2784 213 O\n",
      "3227 5 C7 2486 190 O\n",
      "3227 5 C7 2903 222 CA\n",
      "\n",
      "TRAJECTORY 7\n",
      "\n",
      "Pairs used in this cycle:\n",
      "3227 5 C7 2773 212 O\n",
      "3227 5 C7 2507 192 CD\n",
      "3227 5 C7 2791 214 O\n",
      "3226 5 C6 2791 214 O\n",
      "3227 5 C7 2799 215 SG\n",
      "3227 5 C7 2784 213 O\n",
      "3227 5 C7 2486 190 O\n",
      "3227 5 C7 2903 222 CA\n",
      "\n"
     ]
    }
   ],
   "source": [
    "for _ in range(2): run(args)"
   ],
   "metadata": {
    "collapsed": false
   }
  },
  {
   "cell_type": "markdown",
   "source": [
    "The process goes on similarly, sometimes adding, sometimes removing contacts from the colvar. At any point, you may see what the status is according to the checkpoint (the interesting parts are on the top, it finishes with the NAMD input):"
   ],
   "metadata": {
    "collapsed": false
   }
  },
  {
   "cell_type": "code",
   "execution_count": 9,
   "outputs": [
    {
     "name": "stdout",
     "output_type": "stream",
     "text": [
      "####      PROGRESS      ####\n",
      "Current iteration                                                              7\n",
      "Identified contacts                                                           10\n",
      "####     UNBINDING      ####\n",
      "Distance inclusion cutoff                                                   3.50\n",
      "Distance exclusion cutoff                                                   0.90\n",
      "Distance fluctuation cutogg                                                 1.00\n",
      "Trajectory length / ns                                                        10\n",
      "####       LIGAND       ####\n",
      "Ligand residue name                                                          BEN\n",
      "Ligand clusters             \n",
      "[{'C7', 'N2', 'N1'}]\n",
      "####    FILE CONFIG     ####\n",
      "Working directory           /home/berta/PycharmProjects/enhanced-sampling-workshop-2022/Day1/3.Unbinding_Procedure/example\n",
      "Checkpoint file             /home/berta/PycharmProjects/enhanced-sampling-workshop-2022/Day1/3.Unbinding_Procedure/example/.checkpoint\n",
      "Topology file                                                 topology_clean.pdb\n",
      "Output file                 /home/berta/PycharmProjects/enhanced-sampling-workshop-2022/Day1/3.Unbinding_Procedure/example/unbinding.out\n",
      "####     MD CONFIG      ####\n",
      "NAMD input template         \n",
      "structure               ../step3_input.psf\n",
      "coordinates             ../step3_input.pdb\n",
      "\n",
      "set temp                303.15;\n",
      "                                            # NAMD writes two files at the end, final coord and vel\n",
      "                                            # in the format of first-dyn.coor and first-dyn.vel\n",
      "\n",
      "set inputname           step4_equilibration;\n",
      "\n",
      "dcdUnitCell             yes;                # the file will contain unit cell info in the style of\n",
      "                                            # charmm dcd files. if yes, the dcd files will contain\n",
      "                                            # unit cell information in the style of charmm DCD files.\n",
      "xstFreq                 5000;               # XSTFreq: control how often the extended systen configuration\n",
      "                                            # will be appended to the XST file\n",
      "outputEnergies          5000;               # 5000 steps = every 10ps\n",
      "                                            # The number of timesteps between each energy output of NAMD\n",
      "outputTiming            5000;               # The number of timesteps between each timing output shows\n",
      "                                            # time per step and time to completion\n",
      "restartfreq             5000;               # 5000 steps = every 10ps\n",
      "\n",
      "# Force-Field Parameters\n",
      "paraTypeCharmm          on;                 # We're using charmm type parameter file(s)\n",
      "                                            # multiple definitions may be used but only one file per definition\n",
      "parameters              ../toppar/par_all36m_prot.prm\n",
      "parameters              ../toppar/par_all36_na.prm\n",
      "parameters              ../toppar/par_all36_carb.prm\n",
      "parameters              ../toppar/par_all36_lipid.prm\n",
      "parameters              ../toppar/par_all36_cgenff.prm\n",
      "parameters              ../toppar/par_interface.prm\n",
      "parameters              ../toppar/toppar_all36_moreions.str\n",
      "parameters              ../toppar/toppar_all36_nano_lig.str\n",
      "parameters              ../toppar/toppar_all36_nano_lig_patch.str\n",
      "parameters              ../toppar/toppar_all36_synthetic_polymer.str\n",
      "parameters              ../toppar/toppar_all36_synthetic_polymer_patch.str\n",
      "parameters              ../toppar/toppar_all36_polymer_solvent.str\n",
      "parameters              ../toppar/toppar_water_ions.str\n",
      "parameters              ../toppar/toppar_dum_noble_gases.str\n",
      "parameters              ../toppar/toppar_ions_won.str\n",
      "parameters              ../toppar/cam.str\n",
      "parameters              ../toppar/toppar_all36_prot_arg0.str\n",
      "parameters              ../toppar/toppar_all36_prot_c36m_d_aminoacids.str\n",
      "parameters              ../toppar/toppar_all36_prot_fluoro_alkanes.str\n",
      "parameters              ../toppar/toppar_all36_prot_heme.str\n",
      "parameters              ../toppar/toppar_all36_prot_na_combined.str\n",
      "parameters              ../toppar/toppar_all36_prot_retinol.str\n",
      "parameters              ../toppar/toppar_all36_prot_model.str\n",
      "parameters              ../toppar/toppar_all36_prot_modify_res.str\n",
      "parameters              ../toppar/toppar_all36_na_nad_ppi.str\n",
      "parameters              ../toppar/toppar_all36_na_rna_modified.str\n",
      "parameters              ../toppar/toppar_all36_lipid_sphingo.str\n",
      "parameters              ../toppar/toppar_all36_lipid_archaeal.str\n",
      "parameters              ../toppar/toppar_all36_lipid_bacterial.str\n",
      "parameters              ../toppar/toppar_all36_lipid_cardiolipin.str\n",
      "parameters              ../toppar/toppar_all36_lipid_cholesterol.str\n",
      "parameters              ../toppar/toppar_all36_lipid_dag.str\n",
      "parameters              ../toppar/toppar_all36_lipid_inositol.str\n",
      "parameters              ../toppar/toppar_all36_lipid_lnp.str\n",
      "parameters              ../toppar/toppar_all36_lipid_lps.str\n",
      "parameters              ../toppar/toppar_all36_lipid_mycobacterial.str\n",
      "parameters              ../toppar/toppar_all36_lipid_miscellaneous.str\n",
      "parameters              ../toppar/toppar_all36_lipid_model.str\n",
      "parameters              ../toppar/toppar_all36_lipid_prot.str\n",
      "parameters              ../toppar/toppar_all36_lipid_tag.str\n",
      "parameters              ../toppar/toppar_all36_lipid_yeast.str\n",
      "parameters              ../toppar/toppar_all36_lipid_hmmm.str\n",
      "parameters              ../toppar/toppar_all36_lipid_detergent.str\n",
      "parameters              ../toppar/toppar_all36_lipid_ether.str\n",
      "parameters              ../toppar/toppar_all36_carb_glycolipid.str\n",
      "parameters              ../toppar/toppar_all36_carb_glycopeptide.str\n",
      "parameters              ../toppar/toppar_all36_carb_imlab.str\n",
      "parameters              ../toppar/toppar_all36_label_spin.str\n",
      "parameters              ../toppar/toppar_all36_label_fluorophore.str\n",
      "parameters              ../toppar/ben.prm # Custom topology and parameter files for BEN\n",
      "\n",
      "# Nonbonded Parameters\n",
      "exclude                 scaled1-4           # non-bonded exclusion policy to use \"none,1-2,1-3,1-4,or scaled1-4\"\n",
      "                                            # 1-2: all atoms pairs that are bonded are going to be ignored\n",
      "                                            # 1-3: 3 consecutively bonded are excluded\n",
      "                                            # scaled1-4: include all the 1-3, and modified 1-4 interactions\n",
      "                                            # electrostatic scaled by 1-4scaling factor 1.0\n",
      "                                            # vdW special 1-4 parameters in charmm parameter file.\n",
      "1-4scaling              1.0\n",
      "switching               on\n",
      "vdwForceSwitching       on;                 # New option for force-based switching of vdW\n",
      "                                            # if both switching and vdwForceSwitching are on CHARMM force\n",
      "                                            # switching is used for vdW forces.\n",
      "\n",
      "# You have some freedom choosing the cutoff\n",
      "cutoff                  12.0;               # may use smaller, maybe 10., with PME\n",
      "switchdist              10.0;               # cutoff - 2.\n",
      "                                            # switchdist - where you start to switch\n",
      "                                            # cutoff - where you stop accounting for nonbond interactions.\n",
      "                                            # correspondence in charmm:\n",
      "                                            # (cutnb,ctofnb,ctonnb = pairlistdist,cutoff,switchdist)\n",
      "pairlistdist            16.0;               # stores the all the pairs with in the distance it should be larger\n",
      "                                            # than cutoff( + 2.)\n",
      "stepspercycle           20;                 # 20 redo pairlists every ten steps\n",
      "pairlistsPerCycle       2;                  # 2 is the default\n",
      "                                            # cycle represents the number of steps between atom reassignments\n",
      "                                            # this means every 20/2=10 steps the pairlist will be updated\n",
      "\n",
      "# Integrator Parameters\n",
      "timestep                2.0;                # fs/step\n",
      "rigidBonds              all;                # Bound constraint all bonds involving H are fixed in length\n",
      "nonbondedFreq           1;                  # nonbonded forces every step\n",
      "fullElectFrequency      1;                  # PME every step\n",
      "\n",
      "wrapWater               on;                 # wrap water to central cell\n",
      "wrapAll                 on;                 # wrap other molecules too\n",
      "wrapNearest             off;                # use for non-rectangular cells (wrap to the nearest image)\n",
      "\n",
      "# PME (for full-system periodic electrostatics)\n",
      "PME                     yes;\n",
      "PMEInterpOrder          6;                  # interpolation order (spline order 6 in charmm)\n",
      "PMEGridSpacing          1.0;                # maximum PME grid space / used to calculate grid size\n",
      "\n",
      "# Constant Pressure Control (variable volume)\n",
      "useGroupPressure        yes;                # use a hydrogen-group based pseudo-molecular viral to calcualte pressure and\n",
      "                                            # has less fluctuation, is needed for rigid bonds (rigidBonds/SHAKE)\n",
      "useFlexibleCell         no;                 # yes for anisotropic system like membrane\n",
      "useConstantRatio        no;                 # keeps the ratio of the unit cell in the x-y plane constant A=B\n",
      "\n",
      "# Constant Temperature Control\n",
      "langevin                on;                 # langevin dynamics\n",
      "langevinDamping         1.0;                # damping coefficient of 1/ps (keep low)\n",
      "langevinTemp            $temp;              # random noise at this level\n",
      "langevinHydrogen        off;                # don't couple bath to hydrogens\n",
      "\n",
      "# Constant pressure\n",
      "langevinPiston          on;                 # Nose-Hoover Langevin piston pressure control\n",
      "langevinPistonTarget    1.01325;            # target pressure in bar 1atm = 1.01325bar\n",
      "langevinPistonPeriod    50.0;               # oscillation period in fs. correspond to pgamma T=50fs=0.05ps\n",
      "                                            # f=1/T=20.0(pgamma)\n",
      "langevinPistonDecay     25.0;               # oscillation decay time. smaller value corresponds to larger random\n",
      "                                            # forces and increased coupling to the Langevin temp bath.\n",
      "                                            # Equal or smaller than piston period\n",
      "langevinPistonTemp      $temp;              # coupled to heat bath\n",
      "\n",
      "# run\n",
      "numsteps                50000000;           # run stops when this step is reached\n",
      "\n",
      "### controlled by the unbinding algorithm ###\n",
      "outputName         traj_{0:d};\n",
      "binCoordinates     ../traj_{1:d}/traj_{1:d}.restart.coor;\n",
      "binVelocities      ../traj_{1:d}/traj_{1:d}.restart.vel;\n",
      "extendedSystem     ../traj_{1:d}/traj_{1:d}.restart.xsc;\n",
      "dcdfreq            1000;\n",
      "colvars on\n",
      "colvarsConfig sum_{0:d}.col\n",
      "run                {2:d};\n",
      "\n"
     ]
    }
   ],
   "source": [
    "run(Arguments(report=True))"
   ],
   "metadata": {
    "collapsed": false
   }
  },
  {
   "cell_type": "code",
   "execution_count": 10,
   "outputs": [
    {
     "name": "stdout",
     "output_type": "stream",
     "text": [
      "Distance with id 05 is excluded since the the avarage distance\n",
      "                        in the last quarter ot the simulation is 9.88 A\n",
      "TRAJECTORY 8\n",
      "\n",
      "Pairs used in this cycle:\n",
      "3227 5 C7 2507 192 CD\n",
      "3227 5 C7 2773 212 O\n",
      "3227 5 C7 2791 214 O\n",
      "3226 5 C6 2791 214 O\n",
      "3227 5 C7 2799 215 SG\n",
      "3227 5 C7 2784 213 O\n",
      "3227 5 C7 2486 190 O\n",
      "\n",
      "Distance with id 07 is excluded since the the avarage distance\n",
      "                        in the last quarter ot the simulation is 10.75 A\n",
      "TRAJECTORY 9\n",
      "\n",
      "Pairs used in this cycle:\n",
      "3227 5 C7 2507 192 CD\n",
      "3227 5 C7 2742 210 O\n",
      "3227 5 C7 2773 212 O\n",
      "3227 5 C7 2791 214 O\n",
      "3226 5 C6 2791 214 O\n",
      "3227 5 C7 2799 215 SG\n",
      "3227 5 C7 2486 190 O\n",
      "\n",
      "Distance with id 10 is excluded since the the avarage distance\n",
      "                        in the last quarter ot the simulation is 10.50 A\n",
      "Distance with id 06 is excluded since the the avarage distance\n",
      "                        in the last quarter ot the simulation is 9.28 A\n",
      "Distance with id 01 is excluded since the the avarage distance\n",
      "                        in the last quarter ot the simulation is 9.51 A\n",
      "TRAJECTORY 10\n",
      "\n",
      "Pairs used in this cycle:\n",
      "3227 5 C7 2742 210 O\n",
      "3227 5 C7 559 58 NE2\n",
      "3227 5 C7 2507 192 CD\n",
      "3227 5 C7 2773 212 O\n",
      "3227 5 C7 2791 214 O\n",
      "\n",
      "TRAJECTORY 11\n",
      "\n",
      "Pairs used in this cycle:\n",
      "3227 5 C7 2742 210 O\n",
      "3227 5 C7 559 58 NE2\n",
      "3227 5 C7 2507 192 CD\n",
      "3227 5 C7 2773 212 O\n",
      "3227 5 C7 2791 214 O\n",
      "\n"
     ]
    }
   ],
   "source": [
    "for _ in range(4): run(args)"
   ],
   "metadata": {
    "collapsed": false
   }
  },
  {
   "cell_type": "markdown",
   "source": [
    "We have finished processing the trajectories saved in this example. Let us inspect the summary."
   ],
   "metadata": {
    "collapsed": false
   }
  },
  {
   "cell_type": "code",
   "execution_count": 11,
   "outputs": [
    {
     "name": "stdout",
     "output_type": "stream",
     "text": [
      "pairs:     01  02  03  04  05  06  07  08  09  10  11  12\n",
      "Traj_01     X   X   X   X   X   0   0   0   0   0   0   0\n",
      "Traj_02     X   X   X   X   X   0   0   0   0   0   0   0\n",
      "Traj_03     X   X   X   X   X   0   0   0   0   0   0   0\n",
      "Traj_04     X   X   X   X   X   X   X   0   0   0   0   0\n",
      "Traj_05     X   0   X   X   X   X   X   X   0   0   0   0\n",
      "Traj_06     X   0   0   X   X   X   X   X   X   X   0   0\n",
      "Traj_07     X   0   0   X   X   X   X   X   X   X   0   0\n",
      "Traj_08     X   0   0   X   0   X   X   X   X   X   0   0\n",
      "Traj_09     X   0   0   X   0   X   0   X   X   X   X   0\n",
      "Traj_10     0   0   0   X   0   0   0   X   X   0   X   X\n",
      "Traj_11     0   0   0   X   0   0   0   X   X   0   X   X\n",
      "\n",
      "LEGEND\n",
      "Ligand             Protein\n",
      "ID  index  resid  type  index  resid  type\n",
      "01   3227      6  C7     2486    191  O\n",
      "02   3227      6  C7     2471    190  CG\n",
      "03   3227      6  C7     2483    191  OG\n",
      "04   3227      6  C7     2791    215  O\n",
      "05   3227      6  C7     2903    223  CA\n",
      "06   3227      6  C7     2799    216  SG\n",
      "07   3227      6  C7     2784    214  O\n",
      "08   3227      6  C7     2773    213  O\n",
      "09   3227      6  C7     2507    193  CD\n",
      "10   3226      6  C6     2791    215  O\n",
      "11   3227      6  C7     2742    211  O\n",
      "12   3227      6  C7      559     59  NE2\n"
     ]
    }
   ],
   "source": [
    "with open(\"distances_tracked.csv\", \"r\") as f:\n",
    "    for l in f: print(l.strip())"
   ],
   "metadata": {
    "collapsed": false
   }
  },
  {
   "cell_type": "markdown",
   "source": [
    "At this point, the ligand is outside the pocket, exposed to the bulk water. It may wonder around the protein, so depending on the unbinding settings, it may take further iterations to eliminate all contacts. Nevertheless, running an unbiased simulation from this point will also likely result in a free-roaming ligand.\n",
    "\n",
    "<center>\n",
    "<img src=\"static/bias11.png\" alt=\"after 11 iterations\" width=\"600\"/>\n",
    "</center>"
   ],
   "metadata": {
    "collapsed": false
   }
  },
  {
   "cell_type": "markdown",
   "source": [
    "To better understand the biasing, run another step, but this time without `processonly`."
   ],
   "metadata": {
    "collapsed": false
   }
  },
  {
   "cell_type": "code",
   "execution_count": 12,
   "outputs": [
    {
     "name": "stdout",
     "output_type": "stream",
     "text": [
      "Distance with id 04 is excluded since the the avarage distance\n",
      "                        in the last quarter ot the simulation is 9.45 A\n",
      "TRAJECTORY 12\n",
      "\n",
      "Pairs used in this cycle:\n",
      "3227 5 C7 2742 210 O\n",
      "3227 5 C7 559 58 NE2\n",
      "3227 5 C7 2507 192 CD\n",
      "3227 5 C7 2773 212 O\n",
      "\n"
     ]
    }
   ],
   "source": [
    "run(Arguments())"
   ],
   "metadata": {
    "collapsed": false
   }
  },
  {
   "cell_type": "markdown",
   "source": [
    "This should create the folder `traj_12` with a NAMD input file `traj_12.inp`, based on the template and the colvar file `sum_12.col`. In the latter, you will see the groups defined by indices (same as in VMD) and that the sum of those is being progressively shifted from 32.79 to 36.79."
   ],
   "metadata": {
    "collapsed": false
   }
  },
  {
   "cell_type": "code",
   "execution_count": 13,
   "outputs": [
    {
     "name": "stdout",
     "output_type": "stream",
     "text": [
      "#Colletive variables\n",
      "#generated by CoM_colvar.py\n",
      "Colvarstrajfrequency    1\n",
      "Colvarsrestartfrequency 5000\n",
      "colvar {\n",
      "name sum_1\n",
      "\n",
      "distance {\n",
      "componentCoeff 1.0\n",
      "group1 {atomnumbers 3230 3228 3229 }\n",
      "group2 {atomnumbers 2743 }\n",
      "}\n",
      "distance {\n",
      "componentCoeff 1.0\n",
      "group1 {atomnumbers 3230 3228 3229 }\n",
      "group2 {atomnumbers 560 }\n",
      "}\n",
      "distance {\n",
      "componentCoeff 1.0\n",
      "group1 {atomnumbers 3230 3228 3229 }\n",
      "group2 {atomnumbers 2509 2508 2510 }\n",
      "}\n",
      "distance {\n",
      "componentCoeff 1.0\n",
      "group1 {atomnumbers 3230 3228 3229 }\n",
      "group2 {atomnumbers 2774 }\n",
      "}\n",
      "}\n",
      "\n",
      "harmonic {\n",
      "colvars sum_1\n",
      "centers 32.79\n",
      "targetCenters 36.79\n",
      "targetNumSteps 5000000\n",
      "forceConstant 20\n",
      "}\n"
     ]
    }
   ],
   "source": [
    "with open(\"traj_12/sum_12.col\", \"r\") as f:\n",
    "    for l in f: print(l.strip())"
   ],
   "metadata": {
    "collapsed": false
   }
  },
  {
   "cell_type": "markdown",
   "source": [
    "## Additional Options\n",
    "\n",
    "The complete list of options is available in the [public repository of the unbinding method](https://github.com/rostaresearch/unbinding), here we learn about a few more to play with the results.\n",
    "\n",
    "You can always rerun any existing step without giving up your checkpoint with `nosave`."
   ],
   "metadata": {
    "collapsed": false
   }
  },
  {
   "cell_type": "code",
   "execution_count": 14,
   "outputs": [
    {
     "name": "stdout",
     "output_type": "stream",
     "text": [
      "Distance with id 05 is excluded since the the avarage distance\n",
      "                        in the last quarter ot the simulation is 9.88 A\n",
      "TRAJECTORY 8\n",
      "\n",
      "Pairs used in this cycle:\n",
      "3227 5 C7 2507 192 CD\n",
      "3227 5 C7 2773 212 O\n",
      "3227 5 C7 2791 214 O\n",
      "3226 5 C6 2791 214 O\n",
      "3227 5 C7 2799 215 SG\n",
      "3227 5 C7 2784 213 O\n",
      "3227 5 C7 2486 190 O\n",
      "\n"
     ]
    }
   ],
   "source": [
    "args = Arguments(processonly=True, trajectory=7, nosave=True)\n",
    "run(args)"
   ],
   "metadata": {
    "collapsed": false
   }
  },
  {
   "cell_type": "markdown",
   "source": [
    "Should you corrupt your checkpoint, there is also an option to catch up from scratch. This is especially useful if you want to play with the contact definition."
   ],
   "metadata": {
    "collapsed": false
   }
  },
  {
   "cell_type": "code",
   "execution_count": 15,
   "outputs": [
    {
     "name": "stdout",
     "output_type": "stream",
     "text": [
      "\n",
      "# Cumulative reprocessing #\n",
      "TRAJECTORY 1\n",
      "\n",
      "Pairs used in this cycle:\n",
      "3227 5 C7 2486 190 O\n",
      "3227 5 C7 2471 189 CG\n",
      "3227 5 C7 2483 190 OG\n",
      "3227 5 C7 2791 214 O\n",
      "\n",
      "Distance with id 04 is excluded since the the avarage distance\n",
      "                        in the last quarter ot the simulation is 7.17 A\n",
      "TRAJECTORY 2\n",
      "\n",
      "Pairs used in this cycle:\n",
      "3227 5 C7 2486 190 O\n",
      "3227 5 C7 2471 189 CG\n",
      "3227 5 C7 2483 190 OG\n",
      "3227 5 C7 2791 214 O\n",
      "\n",
      "Distance with id 02 is excluded since the the avarage distance\n",
      "                        in the last quarter ot the simulation is 6.56 A\n",
      "Distance with id 03 is excluded since the the avarage distance\n",
      "                        in the last quarter ot the simulation is 6.14 A\n",
      "TRAJECTORY 3\n",
      "\n",
      "Pairs used in this cycle:\n",
      "3227 5 C7 2486 190 O\n",
      "3227 5 C7 2791 214 O\n",
      "\n",
      "TRAJECTORY 4\n",
      "\n",
      "Pairs used in this cycle:\n",
      "3227 5 C7 2784 213 O\n",
      "3227 5 C7 2486 190 O\n",
      "3227 5 C7 2791 214 O\n",
      "\n",
      "Distance with id 01 is excluded since the the avarage distance\n",
      "                        in the last quarter ot the simulation is 6.80 A\n",
      "TRAJECTORY 5\n",
      "\n",
      "Pairs used in this cycle:\n",
      "3227 5 C7 2791 214 O\n",
      "3227 5 C7 2784 213 O\n",
      "\n",
      "Distance with id 05 is excluded since the the avarage distance\n",
      "                        in the last quarter ot the simulation is 6.16 A\n",
      "TRAJECTORY 6\n",
      "\n",
      "Pairs used in this cycle:\n",
      "3227 5 C7 2507 192 CD\n",
      "3227 5 C7 2791 214 O\n",
      "\n"
     ]
    }
   ],
   "source": [
    "# with cumulative, you will always need the initial setup parameters as well, as it does not use the checkpoint\n",
    "args = Arguments(cutoff=3.3, maxdist=6, lig=\"BEN\", top=\"topology_clean.pdb\", processonly=True, trajectory=5, nosave=True, cumulative=True)\n",
    "run(args)"
   ],
   "metadata": {
    "collapsed": false
   }
  },
  {
   "cell_type": "markdown",
   "source": [
    "## Explore the Unbinding\n",
    "\n",
    "Here I leave two cells for you to try things. Feel free to dig in and ask questions."
   ],
   "metadata": {
    "collapsed": false
   }
  },
  {
   "cell_type": "code",
   "execution_count": 16,
   "outputs": [
    {
     "name": "stdout",
     "output_type": "stream",
     "text": [
      "\n",
      "# Cumulative reprocessing #\n",
      "TRAJECTORY 1\n",
      "\n",
      "Pairs used in this cycle:\n",
      "3227 5 C7 2791 214 O\n",
      "3227 5 C7 2471 189 CG\n",
      "\n",
      "Distance with id 01 is excluded since the the avarage distance\n",
      "                        in the last quarter ot the simulation is 7.17 A\n",
      "TRAJECTORY 2\n",
      "\n",
      "Pairs used in this cycle:\n",
      "3227 5 C7 2471 189 CG\n",
      "\n",
      "Distance with id 02 is excluded since the the avarage distance\n",
      "                        in the last quarter ot the simulation is 6.56 A\n",
      "TRAJECTORY 3\n",
      "\n",
      "Pairs used in this cycle:\n",
      "3227 5 C7 2791 214 O\n",
      "\n",
      "Distance with id 01 is excluded since the the avarage distance\n",
      "                        in the last quarter ot the simulation is 5.60 A\n",
      "TRAJECTORY 4\n",
      "\n",
      "Pairs used in this cycle:\n",
      "3227 5 C7 2784 213 O\n",
      "\n",
      "Distance with id 03 is excluded since the the avarage distance\n",
      "                        in the last quarter ot the simulation is 5.86 A\n",
      "TRAJECTORY 5\n",
      "\n",
      "Pairs used in this cycle:\n",
      "3227 5 C7 2791 214 O\n",
      "\n",
      "TRAJECTORY 6\n",
      "\n",
      "Pairs used in this cycle:\n",
      "3227 5 C7 2791 214 O\n",
      "\n"
     ]
    }
   ],
   "source": [
    "args = Arguments(\n",
    "    trajectory=5,\n",
    "    cumulative=True,\n",
    "    cutoff=3,\n",
    "    maxdist=5,\n",
    "    processonly=True,\n",
    "    nosave=True,\n",
    "    lig=\"BEN\",\n",
    "    top=\"topology_clean.pdb\",\n",
    ")\n",
    "run(args)"
   ],
   "metadata": {
    "collapsed": false
   }
  },
  {
   "cell_type": "code",
   "execution_count": 17,
   "outputs": [
    {
     "name": "stdout",
     "output_type": "stream",
     "text": [
      "pairs:     01  02  03\n",
      "Traj_01     X   X   0\n",
      "Traj_02     0   X   0\n",
      "Traj_03     X   0   0\n",
      "Traj_04     0   0   X\n",
      "Traj_05     X   0   0\n",
      "Traj_06     X   0   0\n",
      "\n",
      "LEGEND\n",
      "Ligand             Protein\n",
      "ID  index  resid  type  index  resid  type\n",
      "01   3227      6  C7     2791    215  O\n",
      "02   3227      6  C7     2471    190  CG\n",
      "03   3227      6  C7     2784    214  O\n"
     ]
    }
   ],
   "source": [
    "with open(\"distances_tracked.csv\", \"r\") as f:\n",
    "    for l in f: print(l.strip())"
   ],
   "metadata": {
    "collapsed": false
   }
  },
  {
   "cell_type": "code",
   "execution_count": 17,
   "outputs": [],
   "source": [],
   "metadata": {
    "collapsed": false
   }
  }
 ],
 "metadata": {
  "kernelspec": {
   "display_name": "Python 3",
   "language": "python",
   "name": "python3"
  },
  "language_info": {
   "codemirror_mode": {
    "name": "ipython",
    "version": 2
   },
   "file_extension": ".py",
   "mimetype": "text/x-python",
   "name": "python",
   "nbconvert_exporter": "python",
   "pygments_lexer": "ipython2",
   "version": "2.7.6"
  }
 },
 "nbformat": 4,
 "nbformat_minor": 0
}
